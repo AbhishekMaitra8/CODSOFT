from google.colab import files
uploaded = files.upload()

import pandas as pd
import numpy as np
import seaborn as sns
import matplotlib.pyplot as plt
from sklearn.model_selection import train_test_split
from sklearn.ensemble import RandomForestClassifier
from sklearn.metrics import accuracy_score, classification_report, confusion_matrix
import warnings
warnings.filterwarnings('ignore')

df=pd.read_csv("IRIS.csv")

df

print("/nMissing values in each column:")
df.isnull().sum()

print("\nUnique values in 'species' column:")
df['species'].unique()

print("\nUnique values in 'sepal_length' column:")
df['sepal_length'].unique()

print("\nUnique values in 'sepal_width' column:")
df['sepal_width'].unique()

print("\nUnique values in 'petal_length' column:")
df['petal_length'].unique()

print("\nUnique values in 'petal_width' column:")
df['petal_width'].unique()

print("\nCount of unique values in 'species' column:")
print(df['species'].value_counts())

print("\nCount of unique values in 'sepal_length' column:")
print(df['sepal_length'].value_counts())

print("\nCount of unique values in 'sepal_width' column:")
print(df['sepal_width'].value_counts())

print("\nCount of unique values in 'petal_length' column:")
print(df['petal_length'].value_counts())

print("\nCount of unique values in 'petal_width' column:")
print(df['petal_width'].value_counts())

print("\nDuplicate rows in the Dataframe:")
print(df.duplicated().sum())

df = df.drop_duplicates()

df.info()

df.describe()

df.describe(include='all')

df["sepal_length"].plot(kind='bar',figsize=(8,4),title='sepal_length by species',color='lightgreen')

# Histogram for sepal_width
plt.figure(figsize=(6, 4))
plt.hist(df['sepal_width'], bins=30, color='purple', edgecolor='black')
plt.title('Sepal Width Distribution')
plt.xlabel('Sepal Width')
plt.ylabel('Frequency')
plt.grid(True)
plt.show()

# Histogram for sepal_length
plt.figure(figsize=(6, 4))
plt.hist(df['sepal_length'], bins=30, color='green', edgecolor='black')
plt.title('Sepal Length Distribution')
plt.xlabel('Sepal Length')
plt.ylabel('Frequency')
plt.grid(True)
plt.show()

plt.figure(figsize=(6,4))
plt.plot(df['petal_length'],df['sepal_length'],marker='o',linestyle='-',color='b')#Line plot of sales over months
plt.title("Petal_length over Sepal_length")#Line plot showing Sales trends over the year
plt.xlabel("Petal_length")#Label for the x-axis
plt.ylabel("Sepal_length")#Label for the y-axis
plt.grid(True)#Show grid lines for better readability
plt.show()#Display the plot

sns.pairplot(df, hue='species', markers=["o", "s", "D"])
plt.show()

plt.figure(figsize=(6,4))
plt.scatter(df["petal_length"],df["species"],color='red',alpha=0.7)#Scatter plot showing relationship between x and y
plt.title("Random Scatter Plot")
plt.xlabel("X Values")
plt.ylabel("Y Values")
plt.grid(True)
plt.show()

plt.figure(figsize=(6,4))
corr_matrix=(df[["sepal_length","sepal_width","petal_length","petal_width"]]).corr()
sns.heatmap(corr_matrix,annot=True,cmap="coolwarm",fmt=".2f")
plt.title("Correlation Heatmap")#Heatmap of Correlation Matrix with annotations
plt.show()

plt.figure(figsize=(6,4))
sns.histplot(df[["species","petal_length"]],bins=20,kde=True, color='purple')#Histogram with KDE overlay
plt.title('Distribution of Petal length according to the Species')#Histogram with KDE showing Recived Amount distribution
plt.xlabel('Species')
plt.ylabel('Petal length')
plt.show()

plt.figure(figsize=(6,4))
sns.boxplot(x='petal_width',y='species',data=df, palette='pastel')#Box Plot showing Recived Amount disribution
plt.title("Species according to the petal_width")#Box Plot of Recived Amount by Expance
plt.xlabel("petal_width")
plt.ylabel("Species")
plt.show()

sns.set(style="whitegrid")

plt.figure(figsize=(6,4))
sns.barplot(x='sepal_length',y='species',data=df,estimator='mean',palette='muted')#Bar Plot showing average Expance by Recived Amount
plt.title("Species according to the sepal length ")#Bar Plot of Recived Amount by Expance
plt.xlabel("Sepal length")
plt.ylabel("Species")
plt.xticks(rotation=45)# Rotate X-axis Labels for better readability
plt.show()

species_counts = df['species'].value_counts()
plt.pie(species_counts, labels=species_counts.index, autopct='%1.1f%%')
plt.title('Species Distribution')
plt.show()

from sklearn.model_selection import train_test_split
from sklearn.preprocessing import StandardScaler,LabelEncoder
from sklearn.metrics import accuracy_score,classification_report,confusion_matrix

le = LabelEncoder()
df['species'] = le.fit_transform(df['species'])

X = df.drop('species', axis=1)
y = df['species']
X_train, X_test, y_train, y_test = train_test_split(X, y, test_size=0.2, random_state=42)


model = RandomForestClassifier(n_estimators=100, random_state=42)
model.fit(X_train, y_train)


y_pred = model.predict(X_test)
print("Accuracy:", accuracy_score(y_test, y_pred))
print("Classification Report:\n", classification_report(y_test, y_pred))
print("Confusion Matrix:\n", confusion_matrix(y_test, y_pred))
