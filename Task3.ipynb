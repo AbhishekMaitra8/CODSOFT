{
 "cells": [
  {
   "cell_type": "code",
   "metadata": {},
   "source": [
    "from google.colab import files\n",
    "uploaded = files.upload()\n",
    "\n",
    "import pandas as pd\n",
    "import numpy as np\n",
    "import seaborn as sns\n",
    "import matplotlib.pyplot as plt\n",
    "from sklearn.model_selection import train_test_split\n",
    "from sklearn.ensemble import RandomForestClassifier\n",
    "from sklearn.metrics import accuracy_score, classification_report, confusion_matrix\n",
    "import warnings\n",
    "warnings.filterwarnings('ignore')\n",
    "\n",
    "df=pd.read_csv(\"IRIS.csv\")\n",
    "df"
   ]
  },
  {
   "cell_type": "code",
   "metadata": {},
   "source": [
    "print(\"\\nMissing values in each column:\")\n",
    "df.isnull().sum()"
   ]
  },
  {
   "cell_type": "code",
   "metadata": {},
   "source": [
    "print(\"\\nUnique values in 'species' column:\")\n",
    "df['species'].unique()\n",
    "\n",
    "print(\"\\nUnique values in 'sepal_length' column:\")\n",
    "df['sepal_length'].unique()\n",
    "\n",
    "print(\"\\nUnique values in 'sepal_width' column:\")\n",
    "df['sepal_width'].unique()\n",
    "\n",
    "print(\"\\nUnique values in 'petal_length' column:\")\n",
    "df['petal_length'].unique()\n",
    "\n",
    "print(\"\\nUnique values in 'petal_width' column:\")\n",
    "df['petal_width'].unique()"
   ]
  },
  {
   "cell_type": "code",
   "metadata": {},
   "source": [
    "print(\"\\nCount of unique values in 'species' column:\")\n",
    "print(df['species'].value_counts())\n",
    "\n",
    "print(\"\\nCount of unique values in 'sepal_length' column:\")\n",
    "print(df['sepal_length'].value_counts())\n",
    "\n",
    "print(\"\\nCount of unique values in 'sepal_width' column:\")\n",
    "print(df['sepal_width'].value_counts())\n",
    "\n",
    "print(\"\\nCount of unique values in 'petal_length' column:\")\n",
    "print(df['petal_length'].value_counts())\n",
    "\n",
    "print(\"\\nCount of unique values in 'petal_width' column:\")\n",
    "print(df['petal_width'].value_counts())"
   ]
  },
  {
   "cell_type": "code",
   "metadata": {},
   "source": [
    "print(\"\\nDuplicate rows in the Dataframe:\")\n",
    "print(df.duplicated().sum())\n",
    "\n",
    "df = df.drop_duplicates()"
   ]
  },
  {
   "cell_type": "code",
   "metadata": {},
   "source": [
    "df.info()"
   ]
  },
  {
   "cell_type": "code",
   "metadata": {},
   "source": [
    "df.describe()"
   ]
  },
  {
   "cell_type": "code",
   "metadata": {},
   "source": [
    "df.describe(include='all')"
   ]
  },
  {
   "cell_type": "code",
   "metadata": {},
   "source": [
    "df[\"sepal_length\"].plot(kind='bar',figsize=(8,4),title='sepal_length by species',color='lightgreen')"
   ]
  },
  {
   "cell_type": "code",
   "metadata": {},
   "source": [
    "# Histogram for sepal_width\n",
    "plt.figure(figsize=(6, 4))\n",
    "plt.hist(df['sepal_width'], bins=30, color='purple', edgecolor='black')\n",
    "plt.title('Sepal Width Distribution')\n",
    "plt.xlabel('Sepal Width')\n",
    "plt.ylabel('Frequency')\n",
    "plt.grid(True)\n",
    "plt.show()\n",
    "\n",
    "# Histogram for sepal_length\n",
    "plt.figure(figsize=(6, 4))\n",
    "plt.hist(df['sepal_length'], bins=30, color='green', edgecolor='black')\n",
    "plt.title('Sepal Length Distribution')\n",
    "plt.xlabel('Sepal Length')\n",
    "plt.ylabel('Frequency')\n",
    "plt.grid(True)\n",
    "plt.show()"
   ]
  },
  {
   "cell_type": "code",
   "metadata": {},
   "source": [
    "plt.figure(figsize=(6,4))\n",
    "plt.plot(df['petal_length'],df['sepal_length'],marker='o',linestyle='-',color='b') # Line plot\n",
    "plt.title(\"Petal_length over Sepal_length\")\n",
    "plt.xlabel(\"Petal_length\")\n",
    "plt.ylabel(\"Sepal_length\")\n",
    "plt.grid(True)\n",
    "plt.show()"
   ]
  },
  {
   "cell_type": "code",
   "metadata": {},
   "source": [
    "sns.pairplot(df, hue='species', markers=[\"o\", \"s\", \"D\"])\n",
    "plt.show()"
   ]
  },
  {
   "cell_type": "code",
   "metadata": {},
   "source": [
    "plt.figure(figsize=(6,4))\n",
    "plt.scatter(df[\"petal_length\"],df[\"species\"],color='red',alpha=0.7)\n",
    "plt.title(\"Random Scatter Plot\")\n",
    "plt.xlabel(\"X Values\")\n",
    "plt.ylabel(\"Y Values\")\n",
    "plt.grid(True)\n",
    "plt.show()"
   ]
  },
  {
   "cell_type": "code",
   "metadata": {},
   "source": [
    "plt.figure(figsize=(6,4))\n",
    "corr_matrix=(df[[\"sepal_length\",\"sepal_width\",\"petal_length\",\"petal_width\"]]).corr()\n",
    "sns.heatmap(corr_matrix,annot=True,cmap=\"coolwarm\",fmt=\".2f\")\n",
    "plt.title(\"Correlation Heatmap\")\n",
    "plt.show()"
   ]
  },
  {
   "cell_type": "code",
   "metadata": {},
   "source": [
    "plt.figure(figsize=(6,4))\n",
    "sns.histplot(df[[\"species\",\"petal_length\"]],bins=20,kde=True, color='purple')\n",
    "plt.title('Distribution of Petal length according to the Species')\n",
    "plt.xlabel('Species')\n",
    "plt.ylabel('Petal length')\n",
    "plt.show()"
   ]
  },
  {
   "cell_type": "code",
   "metadata": {},
   "source": [
    "plt.figure(figsize=(6,4))\n",
    "sns.boxplot(x='petal_width',y='species',data=df, palette='pastel')\n",
    "plt.title(\"Species according to the petal_width\")\n",
    "plt.xlabel(\"petal_width\")\n",
    "plt.ylabel(\"Species\")\n",
    "plt.show()"
   ]
  },
  {
   "cell_type": "code",
   "metadata": {},
   "source": [
    "sns.set(style=\"whitegrid\")\n",
    "\n",
    "plt.figure(figsize=(6,4))\n",
    "sns.barplot(x='sepal_length',y='species',data=df,estimator='mean',palette='muted')\n",
    "plt.title(\"Species according to the sepal length \")\n",
    "plt.xlabel(\"Sepal length\")\n",
    "plt.ylabel(\"Species\")\n",
    "plt.xticks(rotation=45)\n",
    "plt.show()"
   ]
  },
  {
   "cell_type": "code",
   "metadata": {},
   "source": [
    "species_counts = df['species'].value_counts()\n",
    "plt.pie(species_counts, labels=species_counts.index, autopct='%1.1f%%')\n",
    "plt.title('Species Distribution')\n",
    "plt.show()"
   ]
  },
  {
   "cell_type": "code",
   "metadata": {},
   "source": [
    "from sklearn.model_selection import train_test_split\n",
    "from sklearn.preprocessing import StandardScaler,LabelEncoder\n",
    "from sklearn.metrics import accuracy_score,classification_report,confusion_matrix\n",
    "\n",
    "le = LabelEncoder()\n",
    "df['species'] = le.fit_transform(df['species'])\n",
    "\n",
    "X = df.drop('species', axis=1)\n",
    "y = df['species']\n",
    "X_train, X_test, y_train, y_test = train_test_split(X, y, test_size=0.2, random_state=42)\n",
    "\n",
    "model = RandomForestClassifier(n_estimators=100, random_state=42)\n",
    "model.fit(X_train, y_train)\n",
    "\n",
    "y_pred = model.predict(X_test)\n",
    "print(\"Accuracy:\", accuracy_score(y_test, y_pred))\n",
    "print(\"Classification Report:\\n\", classification_report(y_test, y_pred))\n",
    "print(\"Confusion Matrix:\\n\", confusion_matrix(y_test, y_pred))"
   ]
  }
 ],
 "metadata": {
  "kernelspec": {
   "display_name": "Python 3",
   "language": "python",
   "name": "python3"
  },
  "language_info": {
   "name": "python",
   "version": ""
  }
 },
 "nbformat": 4,
 "nbformat_minor": 2
}
