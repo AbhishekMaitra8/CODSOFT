{
 "cells": [
  {
   "cell_type": "code",
   "execution_count": null,
   "id": "H-0CR_gqutS5",
   "metadata": {
    "colab": {
     "base_uri": "https://localhost:8080/",
     "height": 74
    },
    "id": "H-0CR_gqutS5",
    "outputId": "fa557d5b-da9b-44a9-c1e9-971911de74c1"
   },
   "outputs": [],
   "source": [
    "from google.colab import files\n",
    "uploaded = files.upload()"
   ]
  },
  {
   "cell_type": "code",
   "execution_count": null,
   "id": "c14a919b-e22d-4892-9651-6d0f587aa252",
   "metadata": {
    "id": "c14a919b-e22d-4892-9651-6d0f587aa252"
   },
   "outputs": [],
   "source": [
    "import pandas as pd\n",
    "import numpy as np\n",
    "import seaborn as sns\n",
    "import matplotlib.pyplot as plt\n",
    "from sklearn.model_selection import train_test_split\n",
    "from sklearn.linear_model import LinearRegression\n",
    "from sklearn.metrics import mean_squared_error,r2_score\n",
    "import warnings\n",
    "warnings.filterwarnings('ignore')"
   ]
  },
  {
   "cell_type": "code",
   "execution_count": null,
   "id": "d9554295-ef66-4dc2-92ab-efbfcb0b8da3",
   "metadata": {
    "id": "d9554295-ef66-4dc2-92ab-efbfcb0b8da3"
   },
   "outputs": [],
   "source": [
    "df = pd.read_csv(\"IMDb Movies India.csv\",encoding=\"latin-1\")"
   ]
  },
  {
   "cell_type": "code",
   "execution_count": null,
   "id": "6aed3961-c9d1-4139-9f1b-760f266ddc80",
   "metadata": {
    "colab": {
     "base_uri": "https://localhost:8080/",
     "height": 423
    },
    "id": "6aed3961-c9d1-4139-9f1b-760f266ddc80",
    "outputId": "edf5b622-97e1-4bcd-9822-cb06a9bbff4a"
   },
   "outputs": [],
   "source": [
    "df"
   ]
  },
  {
   "cell_type": "code",
   "execution_count": null,
   "id": "6c42d23c-379c-48b1-b08c-3bf3e655517b",
   "metadata": {
    "colab": {
     "base_uri": "https://localhost:8080/",
     "height": 416
    },
    "id": "6c42d23c-379c-48b1-b08c-3bf3e655517b",
    "outputId": "adddcd88-a1ee-4dc6-884c-6a4ab25db714"
   },
   "outputs": [],
   "source": [
    "#Check for missing values in each column\n",
    "print(\"/nMissing values in each column:\")\n",
    "df.isnull().sum()"
   ]
  },
  {
   "cell_type": "code",
   "execution_count": null,
   "id": "740637fb-5961-4034-90bd-8520267105b6",
   "metadata": {
    "colab": {
     "base_uri": "https://localhost:8080/"
    },
    "id": "740637fb-5961-4034-90bd-8520267105b6",
    "outputId": "e1321996-fbd8-4e63-d70e-dc96cf195c9c"
   },
   "outputs": [],
   "source": [
    "print(\"\\nCount of unique values in 'Name' column:\")\n",
    "print(df['Name'].value_counts())"
   ]
  },
  {
   "cell_type": "code",
   "execution_count": null,
   "id": "768d2602-dd7c-46e6-84c4-3871ee156a17",
   "metadata": {
    "colab": {
     "base_uri": "https://localhost:8080/"
    },
    "id": "768d2602-dd7c-46e6-84c4-3871ee156a17",
    "outputId": "6c6cbee4-3eee-4963-a9ab-2805e6cad11b"
   },
   "outputs": [],
   "source": [
    "print(\"\\nCount of unique values in 'Year' column:\")\n",
    "print(df['Year'].value_counts())"
   ]
  },
  {
   "cell_type": "code",
   "execution_count": null,
   "id": "b85ab406-c88f-4862-9f4d-7e126a7c290a",
   "metadata": {
    "colab": {
     "base_uri": "https://localhost:8080/"
    },
    "id": "b85ab406-c88f-4862-9f4d-7e126a7c290a",
    "outputId": "9ae323e2-5f20-4343-8448-899795128a28"
   },
   "outputs": [],
   "source": [
    "print(\"\\nCount of unique values in 'Duration' column:\")\n",
    "print(df['Duration'].value_counts())"
   ]
  },
  {
   "cell_type": "code",
   "execution_count": null,
   "id": "f17a6cba-2112-4c6b-9a92-2467b1726ceb",
   "metadata": {
    "colab": {
     "base_uri": "https://localhost:8080/"
    },
    "id": "f17a6cba-2112-4c6b-9a92-2467b1726ceb",
    "outputId": "ce60e366-09e1-46c6-884b-a4b19b800253"
   },
   "outputs": [],
   "source": [
    "print(\"\\nCount of unique values in 'Genre' column:\")\n",
    "print(df['Genre'].value_counts())"
   ]
  },
  {
   "cell_type": "code",
   "execution_count": null,
   "id": "28989b88-e0c0-44c2-a36a-d5ef6d2cad09",
   "metadata": {
    "colab": {
     "base_uri": "https://localhost:8080/"
    },
    "id": "28989b88-e0c0-44c2-a36a-d5ef6d2cad09",
    "outputId": "27b368fc-32a6-4aef-c916-f8641bcd951f"
   },
   "outputs": [],
   "source": [
    "print(\"\\nCount of unique values in 'Rating' column:\")\n",
    "print(df['Rating'].value_counts())"
   ]
  },
  {
   "cell_type": "code",
   "execution_count": null,
   "id": "4474200c-aa67-435e-adff-d4b2d6daba96",
   "metadata": {
    "colab": {
     "base_uri": "https://localhost:8080/"
    },
    "id": "4474200c-aa67-435e-adff-d4b2d6daba96",
    "outputId": "ad4ad980-9588-4a52-9a26-adf18be2f095"
   },
   "outputs": [],
   "source": [
    "print(\"\\nCount of unique values in 'Votes' column:\")\n",
    "print(df['Votes'].value_counts())"
   ]
  },
  {
   "cell_type": "code",
   "execution_count": null,
   "id": "a98fe988-7154-4370-9cf4-f0ed0faa79dd",
   "metadata": {
    "colab": {
     "base_uri": "https://localhost:8080/"
    },
    "id": "a98fe988-7154-4370-9cf4-f0ed0faa79dd",
    "outputId": "8a56ed9b-f19a-4f34-f7a7-179d64d63332"
   },
   "outputs": [],
   "source": [
    "print(\"\\nCount of unique values in 'Director' column:\")\n",
    "print(df['Director'].value_counts())"
   ]
  },
  {
   "cell_type": "code",
   "execution_count": null,
   "id": "70033e41-f893-4131-a301-876c2c7f50c3",
   "metadata": {
    "colab": {
     "base_uri": "https://localhost:8080/"
    },
    "id": "70033e41-f893-4131-a301-876c2c7f50c3",
    "outputId": "88e5bb8c-82a3-446f-96d7-633b6794161b"
   },
   "outputs": [],
   "source": [
    "print(\"\\nCount of unique values in 'Actor 1' column:\")\n",
    "print(df['Actor 1'].value_counts())"
   ]
  },
  {
   "cell_type": "code",
   "execution_count": null,
   "id": "1d33bde7-0af2-43a2-bd94-759f380586b1",
   "metadata": {
    "colab": {
     "base_uri": "https://localhost:8080/"
    },
    "id": "1d33bde7-0af2-43a2-bd94-759f380586b1",
    "outputId": "a9b3f31e-4f53-42c2-f0f4-605b3fa03279"
   },
   "outputs": [],
   "source": [
    "print(\"\\nCount of unique values in 'Actor 2' column:\")\n",
    "print(df['Actor 2'].value_counts())"
   ]
  },
  {
   "cell_type": "code",
   "execution_count": null,
   "id": "7262594a-e593-4ffd-89ab-225a2b40dd8a",
   "metadata": {
    "colab": {
     "base_uri": "https://localhost:8080/"
    },
    "id": "7262594a-e593-4ffd-89ab-225a2b40dd8a",
    "outputId": "8f32c7f0-2224-4730-f4d0-f88f72590d16"
   },
   "outputs": [],
   "source": [
    "print(\"\\nCount of unique values in 'Actor 3' column:\")\n",
    "print(df['Actor 3'].value_counts())"
   ]
  },
  {
   "cell_type": "code",
   "execution_count": null,
   "id": "3b2c6af6-d4ec-47c6-a62c-ad72be7423d3",
   "metadata": {
    "colab": {
     "base_uri": "https://localhost:8080/"
    },
    "id": "3b2c6af6-d4ec-47c6-a62c-ad72be7423d3",
    "outputId": "9b3b4d52-a28b-4b1f-8042-df4b3d0be74c"
   },
   "outputs": [],
   "source": [
    "print(\"\\nDuplicate rows in the Dataframe:\")\n",
    "print(df.duplicated().sum())"
   ]
  },
  {
   "cell_type": "code",
   "execution_count": null,
   "id": "e9eb4126-6522-4131-9427-c30f9b974cb7",
   "metadata": {
    "id": "e9eb4126-6522-4131-9427-c30f9b974cb7"
   },
   "outputs": [],
   "source": [
    "df = df.drop_duplicates()"
   ]
  },
  {
   "cell_type": "code",
   "execution_count": null,
   "id": "2d98b120-626a-4904-85e4-91eaf46c527e",
   "metadata": {
    "colab": {
     "base_uri": "https://localhost:8080/"
    },
    "id": "2d98b120-626a-4904-85e4-91eaf46c527e",
    "outputId": "d396e930-94c3-4088-81ba-3d3e5291297a"
   },
   "outputs": [],
   "source": [
    "df.info()"
   ]
  },
  {
   "cell_type": "code",
   "execution_count": null,
   "id": "WC6GEz4-Fg9v",
   "metadata": {
    "colab": {
     "base_uri": "https://localhost:8080/",
     "height": 300
    },
    "id": "WC6GEz4-Fg9v",
    "outputId": "d8f455e2-93da-45c2-cf02-3571edc9d16d"
   },
   "outputs": [],
   "source": [
    "df.describe()"
   ]
  },
  {
   "cell_type": "code",
   "execution_count": null,
   "id": "ef5cb7e2-32d1-4c01-bf18-c6661353fa94",
   "metadata": {
    "id": "ef5cb7e2-32d1-4c01-bf18-c6661353fa94"
   },
   "outputs": [],
   "source": [
    "df['Year'] = pd.to_numeric(df['Year'], errors='coerce')\n",
    "# Compute and fill missing with median\n",
    "median_year = df['Year'].median()\n",
    "df['Year'] = df['Year'].fillna(median_year)\n"
   ]
  },
  {
   "cell_type": "code",
   "execution_count": null,
   "id": "b585e0f4-bcce-48d8-a8b8-815d8506f2b8",
   "metadata": {
    "id": "b585e0f4-bcce-48d8-a8b8-815d8506f2b8"
   },
   "outputs": [],
   "source": [
    "\n",
    "# Convert 'Duration' to numeric in case there are non-numeric values\n",
    "df['Duration'] = pd.to_numeric(df['Duration'], errors='coerce')\n",
    "\n",
    "# Compute and fill missing with median\n",
    "median_duration = df['Duration'].median()\n",
    "df['Duration'] = df['Duration'].fillna(median_duration)\n"
   ]
  },
  {
   "cell_type": "code",
   "execution_count": null,
   "id": "a8ce350e-912c-4e21-9e37-d4ec9074faf3",
   "metadata": {
    "id": "a8ce350e-912c-4e21-9e37-d4ec9074faf3"
   },
   "outputs": [],
   "source": [
    "# Ensure 'Rating' is numeric\n",
    "df['Rating'] = pd.to_numeric(df['Rating'], errors='coerce')\n",
    "\n",
    "# Calculate and fill median\n",
    "median_rating = df['Rating'].median()\n",
    "df['Rating'] = df['Rating'].fillna(median_rating)\n"
   ]
  },
  {
   "cell_type": "code",
   "execution_count": null,
   "id": "5d879ed1-268c-447f-983c-2acdd67f1ba6",
   "metadata": {
    "id": "5d879ed1-268c-447f-983c-2acdd67f1ba6"
   },
   "outputs": [],
   "source": [
    "df['Votes'] = pd.to_numeric(df['Votes'], errors='coerce')\n",
    "median_Votes = df['Votes'].median()\n",
    "df['Votes'] = df['Votes'].fillna(median_Votes)"
   ]
  },
  {
   "cell_type": "code",
   "execution_count": null,
   "id": "41983d6c-34d7-42e6-8748-299c83c89b1f",
   "metadata": {
    "id": "41983d6c-34d7-42e6-8748-299c83c89b1f"
   },
   "outputs": [],
   "source": [
    "df.drop(['Year','Duration','Votes'],axis=1,inplace=True,errors='ignore')"
   ]
  },
  {
   "cell_type": "code",
   "execution_count": null,
   "id": "247486c9-6f7f-4726-9799-de8406ccf0ed",
   "metadata": {
    "colab": {
     "base_uri": "https://localhost:8080/",
     "height": 423
    },
    "id": "247486c9-6f7f-4726-9799-de8406ccf0ed",
    "outputId": "3f0e506e-55ea-45db-8cb4-00e5f00bac94"
   },
   "outputs": [],
   "source": [
    "df"
   ]
  },
  {
   "cell_type": "code",
   "execution_count": null,
   "id": "d6a6c1d4-3504-4c6e-967b-804b7dc7fe5b",
   "metadata": {
    "colab": {
     "base_uri": "https://localhost:8080/",
     "height": 419
    },
    "id": "d6a6c1d4-3504-4c6e-967b-804b7dc7fe5b",
    "outputId": "debbd238-3e1b-48c9-8e5a-abc90200db2f"
   },
   "outputs": [],
   "source": [
    "np.random.seed(0)#For reproducibility\n",
    "data = np.random.normal(loc=0, scale=1, size=1000)#Generate random data with normal distribution\n",
    "plt.figure(figsize=(6, 4))\n",
    "plt.hist(data, bins=30, color='purple', edgecolor='black')#Histogram showing the distribution of data\n",
    "plt.title('Name of the movies according to the ratings')#Histogram of data distribution\n",
    "plt.xlabel('ratings')\n",
    "plt.ylabel('Name of the movies')\n",
    "plt.grid(True)\n",
    "plt.show()"
   ]
  },
  {
   "cell_type": "code",
   "execution_count": null,
   "id": "480069be-f7ee-409d-801a-59e51363aa1a",
   "metadata": {
    "colab": {
     "base_uri": "https://localhost:8080/",
     "height": 419
    },
    "id": "480069be-f7ee-409d-801a-59e51363aa1a",
    "outputId": "565195f2-1ef1-4dd5-d16c-7b0344210550"
   },
   "outputs": [],
   "source": [
    "import matplotlib.pyplot as plt\n",
    "\n",
    "# Fill NaN values with a placeholder string\n",
    "df['Director'].fillna('Unknown', inplace=True)\n",
    "df['Actor 1'].fillna('Unknown', inplace=True)\n",
    "\n",
    "plt.figure(figsize=(6,4))\n",
    "x=df[\"Director\"].head(4)\n",
    "y=df[\"Actor 1\"].head(4)\n",
    "plt.scatter(x,y,color='red',alpha=0.7)#Scatter plot showing relationship between x and y\n",
    "plt.title(\"Name of Actor 1 according to the Director\")\n",
    "plt.xlabel(\"Director\")\n",
    "plt.ylabel(\"Actor1\")\n",
    "plt.grid(True)\n",
    "plt.show()"
   ]
  },
  {
   "cell_type": "code",
   "execution_count": null,
   "id": "vTXemBOJUNLg",
   "metadata": {
    "colab": {
     "base_uri": "https://localhost:8080/",
     "height": 713
    },
    "id": "vTXemBOJUNLg",
    "outputId": "05ca8df4-785e-4017-cb91-818baa9bade7"
   },
   "outputs": [],
   "source": [
    "# Count the number of movies directed by each director\n",
    "director_counts = df['Director'].value_counts()\n",
    "\n",
    "# Select the top 10 directors with the most movies directed\n",
    "top_10_directors = director_counts.head(10)\n",
    "\n",
    "# Create a bar plot to visualize the top 10 directors with the most movies directed\n",
    "plt.figure(figsize=(12, 6))\n",
    "plt.bar(top_10_directors.index, top_10_directors.values),\n",
    "plt.title('Top 10 Directors with the Most Movies Directed')\n",
    "plt.xlabel('Director')\n",
    "plt.ylabel('Number of Movies Directed')\n",
    "plt.xticks(rotation=90)\n",
    "plt.show()"
   ]
  },
  {
   "cell_type": "code",
   "execution_count": null,
   "id": "0_riJ9eAUfE3",
   "metadata": {
    "colab": {
     "base_uri": "https://localhost:8080/",
     "height": 709
    },
    "id": "0_riJ9eAUfE3",
    "outputId": "3732ccd6-a855-44d6-a9db-882efd150a17"
   },
   "outputs": [],
   "source": [
    "# Count the number of movies in which each actor starred\n",
    "actor_counts = df[['Actor 1', 'Actor 2', 'Actor 3']].stack().value_counts()\n",
    "\n",
    "# Select the top 10 actors with the most movie appearances\n",
    "top_10_actors = actor_counts.head(10)\n",
    "\n",
    "# Create a bar plot to visualize the top 10 actors with the most movie appearances\n",
    "plt.figure(figsize=(12, 6))\n",
    "plt.bar(top_10_actors.index, top_10_actors.values,  color='skyblue')\n",
    "plt.title('Top 10 Actors with the Most Movie Appearances')\n",
    "plt.xlabel('Actor')\n",
    "plt.ylabel('Number of Movie Appearances')\n",
    "plt.xticks(rotation=90)\n",
    "plt.show()"
   ]
  },
  {
   "cell_type": "code",
   "execution_count": null,
   "id": "OC3zZ7vHUn7_",
   "metadata": {
    "colab": {
     "base_uri": "https://localhost:8080/",
     "height": 682
    },
    "id": "OC3zZ7vHUn7_",
    "outputId": "fcf5f36e-e5e0-4b6a-b3a3-50189bbee008"
   },
   "outputs": [],
   "source": [
    "# Group the data by director and find the maximum rating within each group\n",
    "directors_max_rating = df.groupby('Director')['Rating'].max()\n",
    "\n",
    "# Sort the directors by their highest rating in descending order and select the top 10\n",
    "top_10_directors = directors_max_rating.sort_values(ascending=False).head(10)\n",
    "\n",
    "# Create a bar plot to visualize the top 10 directors with the highest-rated movies\n",
    "plt.figure(figsize=(12, 6))\n",
    "plt.bar(top_10_directors.index, top_10_directors.values)\n",
    "plt.title('Top 10 Directors with the Highest-Rated Movies')\n",
    "plt.xlabel('Director')\n",
    "plt.ylabel('Maximum Rating')\n",
    "plt.xticks(rotation=90)\n",
    "plt.show()"
   ]
  },
  {
   "cell_type": "code",
   "execution_count": null,
   "id": "dC5TsxRGUw6l",
   "metadata": {
    "colab": {
     "base_uri": "https://localhost:8080/",
     "height": 808
    },
    "id": "dC5TsxRGUw6l",
    "outputId": "c54e443e-6a1d-46bd-c027-5ab4adc49acd"
   },
   "outputs": [],
   "source": [
    "# Group the data by genre and calculate the mean rating for each genre\n",
    "genre_mean_ratings = df.groupby('Genre')['Rating'].mean()\n",
    "\n",
    "# Sort the genres by mean rating in descending order and select the top 10\n",
    "top_10_genres = genre_mean_ratings.sort_values(ascending=False).head(10)\n",
    "\n",
    "# Create a bar plot to visualize the top 10 highly rated genres\n",
    "plt.figure(figsize=(12, 6))\n",
    "plt.bar(top_10_genres.index, top_10_genres.values, color='skyblue')\n",
    "plt.title('Top 10 Highly Rated Movie Genres')\n",
    "plt.xlabel('Genre')\n",
    "plt.ylabel('Mean Rating')\n",
    "plt.xticks(rotation=90)\n",
    "plt.show()"
   ]
  },
  {
   "cell_type": "code",
   "execution_count": null,
   "id": "AGYi6lIKtYgh",
   "metadata": {
    "colab": {
     "base_uri": "https://localhost:8080/",
     "height": 694
    },
    "id": "AGYi6lIKtYgh",
    "outputId": "e0107b04-274e-4d52-9b27-76b39369ac67"
   },
   "outputs": [],
   "source": [
    "# Count the occurrences of each Director and Actor 1 combination\n",
    "collaboration_counts = df.groupby(['Director', 'Actor 1']).size().reset_index(name='collaboration_count')\n",
    "\n",
    "# Sort the collaborations by count in descending order\n",
    "frequent_collaborations = collaboration_counts.sort_values(by='collaboration_count', ascending=False)\n",
    "\n",
    "# Display the most frequent collaborations (you can adjust the number to display)\n",
    "print(\"Most frequent Director and Actor 1 collaborations:\")\n",
    "display(frequent_collaborations.head(20)) # Display top 20 collaborations"
   ]
  },
  {
   "cell_type": "code",
   "execution_count": null,
   "id": "e3dc6b68-56e8-427d-935f-44e7ee33391e",
   "metadata": {
    "colab": {
     "base_uri": "https://localhost:8080/",
     "height": 395
    },
    "id": "e3dc6b68-56e8-427d-935f-44e7ee33391e",
    "outputId": "1e306fbc-2312-4dd7-89fb-95270ce54375"
   },
   "outputs": [],
   "source": [
    "import pandas as pd\n",
    "import matplotlib.pyplot as plt\n",
    "import seaborn as sns\n",
    "\n",
    "plt.figure(figsize=(6,4))\n",
    "\n",
    "# Select only numerical columns for the correlation heatmap\n",
    "numerical_df = df.select_dtypes(include=np.number)\n",
    "\n",
    "# Calculate the correlation matrix\n",
    "corr_matrix = numerical_df.corr()\n",
    "\n",
    "# Create the heatmap\n",
    "sns.heatmap(corr_matrix, annot=True, cmap='coolwarm', fmt=\".2f\")\n",
    "\n",
    "plt.title(\"Correlation Heatmap of Numerical Columns\")\n",
    "plt.show()"
   ]
  },
  {
   "cell_type": "code",
   "execution_count": null,
   "id": "2159f54e-2ab0-47ca-ac89-13b76d9114bb",
   "metadata": {
    "id": "2159f54e-2ab0-47ca-ac89-13b76d9114bb"
   },
   "outputs": [],
   "source": [
    "sns.set(style='whitegrid')"
   ]
  },
  {
   "cell_type": "code",
   "execution_count": null,
   "id": "4b3b08f2-f47d-4bbe-96ff-31e574641956",
   "metadata": {
    "colab": {
     "base_uri": "https://localhost:8080/",
     "height": 419
    },
    "id": "4b3b08f2-f47d-4bbe-96ff-31e574641956",
    "outputId": "a90f85fa-2a96-4b93-a48e-edf39be75e33"
   },
   "outputs": [],
   "source": [
    "plt.figure(figsize=(6,4))\n",
    "sns.histplot(df['Rating'],bins=20,kde=True, color='purple')#Histogram with KDE overlay\n",
    "plt.title('Ratings of the movies according to the Duration')#Histogram with KDE showing Recived Amount distribution\n",
    "plt.xlabel('Duration')\n",
    "plt.ylabel('Ratings')\n",
    "plt.show()"
   ]
  },
  {
   "cell_type": "code",
   "execution_count": null,
   "id": "599399b6-84db-4129-83a3-3d06732a4586",
   "metadata": {
    "colab": {
     "base_uri": "https://localhost:8080/",
     "height": 1000
    },
    "id": "599399b6-84db-4129-83a3-3d06732a4586",
    "outputId": "600ccd88-0eaa-44c7-f90b-a17620b30ca1"
   },
   "outputs": [],
   "source": [
    "import seaborn as sns\n",
    "import matplotlib.pyplot as plt\n",
    "plt.figure(figsize=(6,4))\n",
    "sns.scatterplot(x='Name',y='Rating',data=df, hue='Genre',palette='deep',alpha=0.7)\n",
    "plt.title('Name Vs Rating')\n",
    "plt.xlabel('Name')\n",
    "plt.ylabel('Rating')\n",
    "plt.show()"
   ]
  },
  {
   "cell_type": "code",
   "execution_count": null,
   "id": "cN7X-M2rr4PD",
   "metadata": {
    "colab": {
     "base_uri": "https://localhost:8080/",
     "height": 1000
    },
    "id": "cN7X-M2rr4PD",
    "outputId": "bb9247cc-e02e-446e-bdb5-adbeb7835e38"
   },
   "outputs": [],
   "source": [
    "# Find the top N directors (you can adjust N as needed)\n",
    "top_n = 15  # For example, top 15 directors\n",
    "top_directors = df['Director'].value_counts().nlargest(top_n).index\n",
    "\n",
    "# Filter the DataFrame to include only movies by the top directors\n",
    "df_top_directors = df[df['Director'].isin(top_directors)].copy()\n",
    "\n",
    "# Create the countplot for the top directors\n",
    "plt.figure(figsize=(12, 8))\n",
    "sns.countplot(data=df_top_directors, x='Director', hue='Genre')\n",
    "plt.title(f'Genre Distribution for Top {top_n} Directors')\n",
    "plt.xlabel('Director')\n",
    "plt.ylabel('Count')\n",
    "plt.xticks(rotation=45, ha='right') # Rotate x-axis labels for better readability\n",
    "plt.legend(title='Genre', bbox_to_anchor=(1.05, 1), loc='upper left')\n",
    "plt.tight_layout()\n",
    "plt.ylim(0, 5) # Set y-axis limit to zoom in on lower counts\n",
    "plt.show()"
   ]
  },
  {
   "cell_type": "code",
   "execution_count": null,
   "id": "kTLVbXePmA4t",
   "metadata": {
    "colab": {
     "base_uri": "https://localhost:8080/",
     "height": 1000
    },
    "id": "kTLVbXePmA4t",
    "outputId": "684537d1-68b2-4dd6-f97b-6e76b3bbd8a3"
   },
   "outputs": [],
   "source": [
    "# Count the occurrences of each Director-Genre combination\n",
    "director_genre_counts = df.groupby(['Director', 'Genre']).size().reset_index(name='count')\n",
    "\n",
    "# Find the top N directors (you can adjust N as needed)\n",
    "top_directors = df['Director'].value_counts().nlargest(15).index\n",
    "\n",
    "# Filter the counts for the top directors\n",
    "top_directors_genre_counts = director_genre_counts[director_genre_counts['Director'].isin(top_directors)]\n",
    "\n",
    "# Pivot the data for the stacked bar chart\n",
    "pivot_df = top_directors_genre_counts.pivot(index='Director', columns='Genre', values='count').fillna(0)\n",
    "\n",
    "# Create the stacked bar chart\n",
    "plt.figure(figsize=(12, 8))\n",
    "pivot_df.plot(kind='bar', stacked=True, figsize=(12, 8))\n",
    "\n",
    "plt.title('Genre Distribution for Top Directors')\n",
    "plt.xlabel('Director')\n",
    "plt.ylabel('Number of Movies')\n",
    "plt.xticks(rotation=45, ha='right')\n",
    "plt.legend(title='Genre', bbox_to_anchor=(1.05, 1), loc='upper left')\n",
    "plt.tight_layout()\n",
    "plt.show()"
   ]
  },
  {
   "cell_type": "code",
   "execution_count": null,
   "id": "5abd389d-7661-437a-aa61-0af7352e91ba",
   "metadata": {
    "colab": {
     "base_uri": "https://localhost:8080/",
     "height": 283
    },
    "id": "5abd389d-7661-437a-aa61-0af7352e91ba",
    "outputId": "9f4264e2-bda2-4d53-a218-d6808a258ee4"
   },
   "outputs": [],
   "source": [
    "plt.figure(figsize=(5,5))\n",
    "sns.pairplot(df[[\"Name\",\"Genre\",\"Rating\",\"Director\",\"Actor 1\",\"Actor 2\",\"Actor 3\"]],diag_kind=\"kde\",hue=\"Genre\")\n",
    "plt.show()"
   ]
  },
  {
   "cell_type": "code",
   "execution_count": null,
   "id": "0A5UufFYbn3e",
   "metadata": {
    "colab": {
     "base_uri": "https://localhost:8080/",
     "height": 265
    },
    "id": "0A5UufFYbn3e",
    "outputId": "d39070a8-6cca-4c87-a544-a5b62a1d6957"
   },
   "outputs": [],
   "source": [
    "# Select the numerical variables for the pair plot\n",
    "numerical_columns = df.select_dtypes(include=['number'])\n",
    "\n",
    "# Create a pair plot for the numerical variables\n",
    "sns.pairplot(numerical_columns)\n",
    "plt.show()\n"
   ]
  },
  {
   "cell_type": "code",
   "execution_count": null,
   "id": "xjf7YN9YjAB3",
   "metadata": {
    "colab": {
     "base_uri": "https://localhost:8080/",
     "height": 675
    },
    "id": "xjf7YN9YjAB3",
    "outputId": "19d4bc96-6839-46f9-a61a-99eae78a7b1f"
   },
   "outputs": [],
   "source": [
    "# Get the counts of each director\n",
    "director_counts = df['Director'].value_counts()\n",
    "\n",
    "# Select the top N directors (you can adjust N as needed)\n",
    "top_n = 10  # For example, top 10 directors\n",
    "top_directors_counts = director_counts.nlargest(top_n)\n",
    "\n",
    "# Create the pie chart\n",
    "plt.figure(figsize=(8, 8))\n",
    "plt.pie(top_directors_counts, labels=top_directors_counts.index, autopct='%1.1f%%', startangle=140)\n",
    "plt.title(f'Top {top_n} Directors Distribution')\n",
    "plt.axis('equal')  # Equal aspect ratio ensures that pie is drawn as a circle.\n",
    "plt.show()"
   ]
  },
  {
   "cell_type": "code",
   "execution_count": null,
   "id": "2lF7gFipmKYQ",
   "metadata": {
    "colab": {
     "base_uri": "https://localhost:8080/",
     "height": 573
    },
    "id": "2lF7gFipmKYQ",
    "outputId": "77725743-267f-46e3-a268-b20240c9cf2d"
   },
   "outputs": [],
   "source": [
    "#Define predictor variable\n",
    "X=df[\"Genre\"]\n",
    "#Define target variable\n",
    "y=df[\"Rating\"]\n",
    "\n",
    "#Split data into training and testing sets\n",
    "X_train,X_test,y_train,y_test=train_test_split(X,y,test_size=0.2,random_state=42)\n",
    "\n",
    "# One-hot encode the 'Genre' column\n",
    "X_train = pd.get_dummies(X_train, drop_first=True)\n",
    "X_test = pd.get_dummies(X_test, drop_first=True)\n",
    "\n",
    "# Align columns so both have the same dummy columns\n",
    "X_train, X_test = X_train.align(X_test, join='left', axis=1, fill_value=0)\n",
    "\n",
    "# Handle missing values in y_train by filling with the median\n",
    "y_train = y_train.fillna(y_train.median())\n",
    "\n",
    "simple_model=LinearRegression()\n",
    "simple_model.fit(X_train,y_train)\n",
    "\n",
    "# Handle missing values in y_test by filling with the median of y_train\n",
    "y_test = y_test.fillna(y_train.median())\n",
    "\n",
    "#Predictions\n",
    "y_pred=simple_model.predict(X_test)\n",
    "\n",
    "# Create a scatter plot for the test data\n",
    "plt.figure(figsize=(8, 6))\n",
    "plt.scatter(y_test, y_pred, alpha=0.5, color='blue', label='Actual vs Predicted (Test Data)')\n",
    "plt.title('Actual vs Predicted Values')\n",
    "plt.xlabel('Actual Values')\n",
    "plt.ylabel('Predicted Values')\n",
    "plt.legend()\n",
    "plt.grid(True)\n",
    "\n",
    "# Show the plot\n",
    "plt.show()"
   ]
  },
  {
   "cell_type": "code",
   "execution_count": null,
   "id": "43cbf5ea-e3ed-4317-914e-eb4f86b0840d",
   "metadata": {
    "colab": {
     "base_uri": "https://localhost:8080/",
     "height": 80
    },
    "id": "43cbf5ea-e3ed-4317-914e-eb4f86b0840d",
    "outputId": "2d2011b7-3adf-441c-b1bc-3c70de9fb534"
   },
   "outputs": [],
   "source": [
    "# Handle missing values in y_train by filling with the median\n",
    "y_train = y_train.fillna(y_train.median())\n",
    "\n",
    "simple_model=LinearRegression()\n",
    "simple_model.fit(X_train,y_train)"
   ]
  },
  {
   "cell_type": "code",
   "execution_count": null,
   "id": "54b4ebce-28dc-43fa-9963-f927026ac7cf",
   "metadata": {
    "id": "54b4ebce-28dc-43fa-9963-f927026ac7cf"
   },
   "outputs": [],
   "source": [
    "# Handle missing values in y_test by filling with the median of y_train\n",
    "y_test = y_test.fillna(y_train.median())\n",
    "\n",
    "#Predictions\n",
    "y_pred=simple_model.predict(X_test)"
   ]
  },
  {
   "cell_type": "code",
   "execution_count": null,
   "id": "a873f7f9-b47a-4da3-9c6e-b673e69f103c",
   "metadata": {
    "colab": {
     "base_uri": "https://localhost:8080/"
    },
    "id": "a873f7f9-b47a-4da3-9c6e-b673e69f103c",
    "outputId": "63e6ec92-8417-4d52-ed76-836143efb0b3"
   },
   "outputs": [],
   "source": [
    "#Evaluate the model\n",
    "print(f'Mean Squared Error: {mean_squared_error(y_test ,y_pred)}')\n",
    "print(f'R^2 Score:{r2_score(y_test,y_pred)}')"
   ]
  },
  {
   "cell_type": "code",
   "execution_count": null,
   "id": "54e7d391-60b2-40ba-9a0b-d2f432c0abda",
   "metadata": {
    "colab": {
     "base_uri": "https://localhost:8080/"
    },
    "id": "54e7d391-60b2-40ba-9a0b-d2f432c0abda",
    "outputId": "403aaa6f-4955-438b-e1bf-23fcd69f75bf"
   },
   "outputs": [],
   "source": [
    "#Display the coefficients of the model\n",
    "coefficients=pd.DataFrame(simple_model.coef_,X_train.columns,columns=['Coefficient'])\n",
    "print(coefficients)"
   ]
  }
 ],
 "metadata": {
  "colab": {
   "provenance": []
  },
  "kernelspec": {
   "display_name": "Python 3 (ipykernel)",
   "language": "python",
   "name": "python3"
  },
  "language_info": {
   "codemirror_mode": {
    "name": "ipython",
    "version": 3
   },
   "file_extension": ".py",
   "mimetype": "text/x-python",
   "name": "python",
   "nbconvert_exporter": "python",
   "pygments_lexer": "ipython3",
   "version": "3.13.5"
  }
 },
 "nbformat": 4,
 "nbformat_minor": 5
}
